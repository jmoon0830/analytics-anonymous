{
 "cells": [
  {
   "cell_type": "code",
   "execution_count": 1,
   "metadata": {},
   "outputs": [],
   "source": [
    "# Dependencies\n",
    "import pandas as pd"
   ]
  },
  {
   "cell_type": "code",
   "execution_count": 2,
   "metadata": {},
   "outputs": [],
   "source": [
    "# List with all the ticker names\n",
    "ticker = ['KO', 'PEP', 'COST', 'PM', 'MO', 'MDLZ', 'EL', 'CL', 'KMB', 'KHC',\n",
    "          'WBA', 'GIS', 'MNST', 'STZ', 'BF-B', 'SYY', 'CLX', 'KR', 'BRK.B', 'JPM',\n",
    "          'BAC', 'WFC', 'C', 'BLK', 'SPGI', 'AXP', 'MS', 'GS', 'CME', 'CB', \n",
    "          'JNJ', 'UNH', 'MRK', 'PFE', 'ABT', 'LLY', 'ABBV', 'TMO', 'AMGN', 'BMY', \n",
    "          'MDT', 'DHR', 'GILD', 'CVS', 'VRTX', 'CI', 'REGN', 'SYK', 'ANTM', 'ISRG', \n",
    "          'AMT', 'CCI', 'PLD', 'EQIX', 'DLR', 'PSA', 'SBAC', 'SPG', 'AVB', 'EQR', \n",
    "          'WELL', 'O', 'ARE', 'WY','CBRE', 'ESS', 'PEAK', 'BXP', 'VTR', 'MAA',\n",
    "          'AAPL', 'MSFT', 'V', 'MA', 'INTC', 'NVDA', 'ADBE', 'PYPL', 'CSCO', 'ORCL', \n",
    "          'CRM', 'ACN', 'AVGO', 'TXN', 'IBM', 'QCOM', 'FIS', 'NOW', 'INTU', 'FISV', \n",
    "          'AON', 'ICE', 'MCO', 'MMC', 'PG', 'PGR','PNC','TFC', 'USB', 'WMT' ]\n",
    "\n",
    "# Loop to add tickers to the corresponding csv\n",
    "for name in range(len(ticker)):\n",
    "    \n",
    "    csv_input = pd.read_csv(f'Resources/monthly_{ticker[name]}.csv')\n",
    "    csv_input['Ticker'] = ticker[name]\n",
    "    csv_input.to_csv(f'Resources/monthly_{ticker[name]}.csv', index=False)"
   ]
  }
 ],
 "metadata": {
  "kernelspec": {
   "display_name": "Python [conda env:PythonData] *",
   "language": "python",
   "name": "conda-env-PythonData-py"
  },
  "language_info": {
   "codemirror_mode": {
    "name": "ipython",
    "version": 3
   },
   "file_extension": ".py",
   "mimetype": "text/x-python",
   "name": "python",
   "nbconvert_exporter": "python",
   "pygments_lexer": "ipython3",
   "version": "3.6.10"
  }
 },
 "nbformat": 4,
 "nbformat_minor": 4
}
