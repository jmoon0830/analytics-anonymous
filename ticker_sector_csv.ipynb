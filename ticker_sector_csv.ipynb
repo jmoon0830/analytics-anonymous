{
 "cells": [
  {
   "cell_type": "code",
   "execution_count": 1,
   "metadata": {},
   "outputs": [],
   "source": [
    "# Dependencies\n",
    "import pandas as pd"
   ]
  },
  {
   "cell_type": "code",
   "execution_count": 2,
   "metadata": {},
   "outputs": [],
   "source": [
    "# List with all the ticker names\n",
    "ticker = ['WMT', 'PG', 'KO', 'PEP', 'COST', 'PM', 'MO', 'MDLZ', 'EL', 'CL', \n",
    "          'KMB', 'KHC','WBA', 'GIS', 'MNST', 'STZ', 'BF-B', 'SYY', 'CLX', 'KR', \n",
    "          'BRK.B', 'JPM', 'BAC', 'WFC', 'C', 'BLK', 'SPGI', 'AXP', 'MS', 'GS', \n",
    "          'CME', 'CB', 'USB', 'MMC', 'MCO', 'TFC', 'ICE', 'PGR', 'PNC', 'AON', \n",
    "          'JNJ', 'UNH', 'MRK', 'PFE', 'ABT', 'LLY', 'ABBV', 'TMO', 'AMGN', 'BMY', \n",
    "          'MDT', 'DHR', 'GILD', 'CVS', 'VRTX', 'CI', 'REGN', 'SYK', 'ANTM', 'ISRG', \n",
    "          'AMT', 'CCI', 'PLD', 'EQIX', 'DLR', 'PSA', 'SBAC', 'SPG', 'AVB', 'EQR', \n",
    "          'WELL', 'O', 'ARE', 'WY','CBRE', 'ESS', 'PEAK', 'BXP', 'VTR', 'MAA', \n",
    "          'AAPL', 'MSFT', 'V', 'MA', 'INTC', 'NVDA', 'ADBE', 'PYPL', 'CSCO', 'ORCL', \n",
    "          'CRM', 'ACN', 'AVGO', 'TXN', 'IBM', 'QCOM', 'FIS', 'NOW', 'INTU', 'FISV']\n",
    "\n",
    "# List of ticker with the specified sector\n",
    "consumer_staples = ['WMT', 'PG', 'KO', 'PEP', 'COST', 'PM', 'MO', 'MDLZ', 'EL', 'CL', \n",
    "                    'KMB', 'KHC', 'WBA', 'GIS', 'MNST', 'STZ', 'BF-B', 'SYY', 'CLX', 'KR']\n",
    "\n",
    "finance = ['BRK.B', 'JPM', 'BAC', 'WFC', 'C', 'BLK', 'SPGI', 'AXP', 'MS', 'GS', \n",
    "           'CME', 'CB','USB', 'MMC', 'MCO', 'TFC', 'ICE', 'PGR', 'PNC', 'AON']\n",
    "\n",
    "health_care = ['JNJ', 'UNH', 'MRK', 'PFE', 'ABT', 'LLY', 'ABBV', 'TMO', 'AMGN', 'BMY', \n",
    "              'MDT', 'DHR', 'GILD', 'CVS', 'VRTX', 'CI', 'REGN', 'SYK', 'ANTM', 'ISRG']\n",
    "\n",
    "real_estate = ['AMT', 'CCI', 'PLD', 'EQIX', 'DLR', 'PSA', 'SBAC', 'SPG', 'AVB', 'EQR', \n",
    "               'WELL', 'O', 'ARE', 'WY','CBRE', 'ESS', 'PEAK', 'BXP', 'VTR', 'MAA',]\n",
    "\n",
    "technology = ['AAPL', 'MSFT', 'V', 'MA', 'INTC', 'NVDA', 'ADBE', 'PYPL', 'CSCO', 'ORCL', \n",
    "              'CRM', 'ACN', 'AVGO', 'TXN', 'IBM', 'QCOM', 'FIS', 'NOW', 'INTU', 'FISV']\n",
    "\n",
    "\n",
    "# Loop to add tickers to the corresponding csv\n",
    "for name in range(len(ticker)):\n",
    "    \n",
    "    csv_input = pd.read_csv(f'Resources/monthly_{ticker[name]}.csv')\n",
    "    csv_input['Ticker'] = ticker[name]\n",
    "    csv_input.to_csv(f'Resources/monthly_{ticker[name]}.csv', index=False)\n",
    "\n",
    "# Loops to add sector names to corresponding csv\n",
    "for name in range(len(consumer_staples)):\n",
    "    \n",
    "    csv_input = pd.read_csv(f'Resources/monthly_{consumer_staples[name]}.csv')\n",
    "    csv_input['Sector'] = 'Consumer Staples'\n",
    "    csv_input.to_csv(f'Resources/monthly_{consumer_staples[name]}.csv', index=False)\n",
    "\n",
    "for name in range(len(finance)):\n",
    "    \n",
    "    csv_input = pd.read_csv(f'Resources/monthly_{finance[name]}.csv')\n",
    "    csv_input['Sector'] = 'Financials'\n",
    "    csv_input.to_csv(f'Resources/monthly_{finance[name]}.csv', index=False)\n",
    "\n",
    "for name in range(len(health_care)):\n",
    "    \n",
    "    csv_input = pd.read_csv(f'Resources/monthly_{health_care[name]}.csv')\n",
    "    csv_input['Sector'] = 'Health Care'\n",
    "    csv_input.to_csv(f'Resources/monthly_{health_care[name]}.csv', index=False)\n",
    "\n",
    "for name in range(len(real_estate)):\n",
    "    \n",
    "    csv_input = pd.read_csv(f'Resources/monthly_{real_estate[name]}.csv')\n",
    "    csv_input['Sector'] = 'Real Estate'\n",
    "    csv_input.to_csv(f'Resources/monthly_{real_estate[name]}.csv', index=False)\n",
    "\n",
    "for name in range(len(technology)):\n",
    "    \n",
    "    csv_input = pd.read_csv(f'Resources/monthly_{technology[name]}.csv')\n",
    "    csv_input['Sector'] = 'Information Technology'\n",
    "    csv_input.to_csv(f'Resources/monthly_{technology[name]}.csv', index=False)"
   ]
  },
  {
   "cell_type": "code",
   "execution_count": null,
   "metadata": {},
   "outputs": [],
   "source": []
  }
 ],
 "metadata": {
  "kernelspec": {
   "display_name": "Python 3",
   "language": "python",
   "name": "python3"
  },
  "language_info": {
   "codemirror_mode": {
    "name": "ipython",
    "version": 3
   },
   "file_extension": ".py",
   "mimetype": "text/x-python",
   "name": "python",
   "nbconvert_exporter": "python",
   "pygments_lexer": "ipython3",
   "version": "3.6.10"
  }
 },
 "nbformat": 4,
 "nbformat_minor": 4
}
